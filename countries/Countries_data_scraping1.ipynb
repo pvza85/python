{
 "cells": [
  {
   "cell_type": "code",
   "execution_count": 2,
   "metadata": {
    "collapsed": true
   },
   "outputs": [],
   "source": [
    "import numpy as np\n",
    "import pandas as pd\n",
    "import webbrowser as wb\n",
    "from bs4 import BeautifulSoup\n",
    "import requests\n",
    "\n",
    "from pandas import Series, DataFrame\n",
    "from numpy.random import randn\n",
    "\n",
    "countries = DataFrame(['Switzerland', 'Netherlands','United States', 'Canada', 'Australia', 'New Zealand', 'Norway', 'United Kingdom', \n",
    "                            'Germany', 'Belgium', 'Sweden', 'France', 'Italy', 'Denmark', 'Finland', 'Turkey', 'Iran'], columns = ['Country'])\n",
    "\n",
    "link = 'https://en.wikipedia.org/wiki/{0}'\n",
    "country_list_links = Series(['List_of_countries_by_Human_Development_Index', 'List_of_countries_by_income_equality','List_of_countries_by_GDP_(PPP)_per_capita','List_of_countries_by_real_GDP_growth_rate'\n",
    "                            ,'List_of_countries_by_GDP_(nominal)_per_capita','List_of_countries_and_dependencies_by_population','List_of_countries_and_dependencies_by_population','List_of_countries_by_average_wage'\n",
    "                            ,'Satisfaction_with_Life_Index','Happy_Planet_Index','List_of_countries_by_unemployment_rate','List_of_countries_by_job_security','List_of_countries_by_inflation_rate'\n",
    "                        ,'Ease_of_doing_business_index','Index_of_Economic_Freedom','List_of_countries_by_tax_rates','List_of_minimum_wages_by_country','List_of_countries_by_past_and_projected_GDP_(nominal)_per_capita',\n",
    "                             'List_of_countries_by_GDP_growth_1980–2010','List_of_countries_by_GDP_(real)_per_capita_growth_rate','Global_Peace_Index'])\n",
    "links = []\n",
    "for i in range(len(country_list_links)):\n",
    "    links.append(link.format(country_list_links[i]))"
   ]
  },
  {
   "cell_type": "code",
   "execution_count": 3,
   "metadata": {
    "collapsed": true
   },
   "outputs": [],
   "source": [
    "def getRawTables(link):\n",
    "    \"\"\"extract tables of a page\"\"\"\n",
    "    # Request content from web page\n",
    "    result = requests.get(link)\n",
    "    c = result.content\n",
    "\n",
    "    # Set as Beautiful Soup Object\n",
    "    soup = BeautifulSoup(c)\n",
    "    #print(soup)\n",
    "    rawTables = soup.findAll(\"table\",{'class':'wikitable'})\n",
    "    print(len(rawTables))\n",
    "    return rawTables"
   ]
  },
  {
   "cell_type": "code",
   "execution_count": 4,
   "metadata": {
    "collapsed": true
   },
   "outputs": [],
   "source": [
    "def getRawDataFromTable(table):\n",
    "    \"\"\"extract raw datas of cells in one table\"\"\"\n",
    "    cells=table.findAll(\"td\")\n",
    "    \n",
    "    data = []\n",
    "    for i in range(len(cells)):\n",
    "        link = cells[i].findAll(\"a\")\n",
    "        if len(link) > 0:\n",
    "            data.append(link[0].text)\n",
    "        else:\n",
    "            data.append(cells[i].text)\n",
    "            \n",
    "    return data"
   ]
  },
  {
   "cell_type": "code",
   "execution_count": 5,
   "metadata": {
    "collapsed": true
   },
   "outputs": [],
   "source": [
    "def getColumnsFromTable(table):\n",
    "    \"\"\"extract column names for each table\"\"\"\n",
    "    temp = table.findAll(\"th\")\n",
    "    \n",
    "    columns = []\n",
    "    for i in range(len(temp)):\n",
    "        columns.append(temp[i].text)\n",
    "        \n",
    "    return columns"
   ]
  },
  {
   "cell_type": "code",
   "execution_count": 6,
   "metadata": {
    "collapsed": true
   },
   "outputs": [],
   "source": [
    "def formDataFrame(table):\n",
    "    \"\"\"function that gets table and call to other function to form a dataframe\"\"\"\n",
    "    rawData = Series(getRawDataFromTable(table))\n",
    "    columns = getColumnsFromTable(table)\n",
    "    columnCount = len(columns)\n",
    "    rowCount = len(rawData)/columnCount\n",
    "    \n",
    "    res = DataFrame(rawData.reshape(rowCount, columnCount), columns = columns)\n",
    "    \n",
    "    return res"
   ]
  },
  {
   "cell_type": "code",
   "execution_count": 7,
   "metadata": {
    "collapsed": true
   },
   "outputs": [],
   "source": [
    "def extractTables(link):\n",
    "    tables = getRawTables(link)\n",
    "    \n",
    "    dfTables = []\n",
    "    \n",
    "    #dfTables.append(formDataFrame(tables[0]))\n",
    "    \n",
    "    for i in range(len(tables)):\n",
    "            dfTables.append(formDataFrame(tables[i]))\n",
    "            \n",
    "    return dfTables"
   ]
  },
  {
   "cell_type": "code",
   "execution_count": 8,
   "metadata": {
    "collapsed": true
   },
   "outputs": [],
   "source": [
    "def desiredCountriesData(partLink):\n",
    "    \"\"\"extract data for those countries that I'm looking for\"\"\"\n",
    "    link = 'https://en.wikipedia.org/wiki/{0}'\n",
    "    countries = DataFrame(index=['Switzerland', 'Netherlands','United States', 'Canada', 'Australia', 'New Zealand', 'Norway', 'United Kingdom', \n",
    "                            'Germany', 'Belgium', 'Sweden', 'France', 'Italy', 'Denmark', 'Finland', 'Turkey', 'Iran'])\n",
    "    \n",
    "    link = link.format(partLink)\n",
    "    print(link)\n",
    "    wb.open(link)\n",
    "    tables = extractTables(link)\n",
    "    \n",
    "    res = []\n",
    "    for i in range(len(tables)):\n",
    "        res.append(tables[i][tables[i]['Country'].isin(countries.index)])\n",
    "    \n",
    "    \n",
    "    return res"
   ]
  },
  {
   "cell_type": "code",
   "execution_count": 44,
   "metadata": {
    "collapsed": false
   },
   "outputs": [
    {
     "name": "stdout",
     "output_type": "stream",
     "text": [
      "https://en.wikipedia.org/wiki/Global_Peace_Index\n",
      "3\n"
     ]
    },
    {
     "ename": "ValueError",
     "evalue": "total size of new array must be unchanged",
     "output_type": "error",
     "traceback": [
      "\u001b[1;31m---------------------------------------------------------------------------\u001b[0m",
      "\u001b[1;31mValueError\u001b[0m                                Traceback (most recent call last)",
      "\u001b[1;32m<ipython-input-44-0a8f70fc3c22>\u001b[0m in \u001b[0;36m<module>\u001b[1;34m()\u001b[0m\n\u001b[0;32m      1\u001b[0m \u001b[1;31m#[0, 1, 3, 5, 6, 8, 9, 10, 11, 12, 13, 14, 15, 16, 17, 18, 19]\u001b[0m\u001b[1;33m\u001b[0m\u001b[1;33m\u001b[0m\u001b[0m\n\u001b[0;32m      2\u001b[0m \u001b[1;31m#[2, 4, 7, 9, 12]\u001b[0m\u001b[1;33m\u001b[0m\u001b[1;33m\u001b[0m\u001b[0m\n\u001b[1;32m----> 3\u001b[1;33m \u001b[0mres\u001b[0m \u001b[1;33m=\u001b[0m \u001b[0mdesiredCountriesData\u001b[0m\u001b[1;33m(\u001b[0m\u001b[0mcountry_list_links\u001b[0m\u001b[1;33m[\u001b[0m\u001b[1;36m20\u001b[0m\u001b[1;33m]\u001b[0m\u001b[1;33m)\u001b[0m\u001b[1;33m\u001b[0m\u001b[0m\n\u001b[0m\u001b[0;32m      4\u001b[0m \u001b[1;32mfor\u001b[0m \u001b[0mi\u001b[0m \u001b[1;32min\u001b[0m \u001b[0mrange\u001b[0m\u001b[1;33m(\u001b[0m\u001b[0mlen\u001b[0m\u001b[1;33m(\u001b[0m\u001b[0mres\u001b[0m\u001b[1;33m)\u001b[0m\u001b[1;33m)\u001b[0m\u001b[1;33m:\u001b[0m\u001b[1;33m\u001b[0m\u001b[0m\n\u001b[0;32m      5\u001b[0m     \u001b[1;32mprint\u001b[0m\u001b[1;33m(\u001b[0m\u001b[1;34m'{0}_{1}'\u001b[0m\u001b[1;33m.\u001b[0m\u001b[0mformat\u001b[0m\u001b[1;33m(\u001b[0m\u001b[0mcountry_list_links\u001b[0m\u001b[1;33m[\u001b[0m\u001b[1;36m1\u001b[0m\u001b[1;33m]\u001b[0m\u001b[1;33m,\u001b[0m \u001b[0mi\u001b[0m\u001b[1;33m)\u001b[0m\u001b[1;33m)\u001b[0m\u001b[1;33m\u001b[0m\u001b[0m\n",
      "\u001b[1;32m<ipython-input-8-345f79bd3fba>\u001b[0m in \u001b[0;36mdesiredCountriesData\u001b[1;34m(partLink)\u001b[0m\n\u001b[0;32m      8\u001b[0m     \u001b[1;32mprint\u001b[0m\u001b[1;33m(\u001b[0m\u001b[0mlink\u001b[0m\u001b[1;33m)\u001b[0m\u001b[1;33m\u001b[0m\u001b[0m\n\u001b[0;32m      9\u001b[0m     \u001b[0mwb\u001b[0m\u001b[1;33m.\u001b[0m\u001b[0mopen\u001b[0m\u001b[1;33m(\u001b[0m\u001b[0mlink\u001b[0m\u001b[1;33m)\u001b[0m\u001b[1;33m\u001b[0m\u001b[0m\n\u001b[1;32m---> 10\u001b[1;33m     \u001b[0mtables\u001b[0m \u001b[1;33m=\u001b[0m \u001b[0mextractTables\u001b[0m\u001b[1;33m(\u001b[0m\u001b[0mlink\u001b[0m\u001b[1;33m)\u001b[0m\u001b[1;33m\u001b[0m\u001b[0m\n\u001b[0m\u001b[0;32m     11\u001b[0m \u001b[1;33m\u001b[0m\u001b[0m\n\u001b[0;32m     12\u001b[0m     \u001b[0mres\u001b[0m \u001b[1;33m=\u001b[0m \u001b[1;33m[\u001b[0m\u001b[1;33m]\u001b[0m\u001b[1;33m\u001b[0m\u001b[0m\n",
      "\u001b[1;32m<ipython-input-7-0c707fe041dd>\u001b[0m in \u001b[0;36mextractTables\u001b[1;34m(link)\u001b[0m\n\u001b[0;32m      7\u001b[0m \u001b[1;33m\u001b[0m\u001b[0m\n\u001b[0;32m      8\u001b[0m     \u001b[1;32mfor\u001b[0m \u001b[0mi\u001b[0m \u001b[1;32min\u001b[0m \u001b[0mrange\u001b[0m\u001b[1;33m(\u001b[0m\u001b[0mlen\u001b[0m\u001b[1;33m(\u001b[0m\u001b[0mtables\u001b[0m\u001b[1;33m)\u001b[0m\u001b[1;33m)\u001b[0m\u001b[1;33m:\u001b[0m\u001b[1;33m\u001b[0m\u001b[0m\n\u001b[1;32m----> 9\u001b[1;33m             \u001b[0mdfTables\u001b[0m\u001b[1;33m.\u001b[0m\u001b[0mappend\u001b[0m\u001b[1;33m(\u001b[0m\u001b[0mformDataFrame\u001b[0m\u001b[1;33m(\u001b[0m\u001b[0mtables\u001b[0m\u001b[1;33m[\u001b[0m\u001b[0mi\u001b[0m\u001b[1;33m]\u001b[0m\u001b[1;33m)\u001b[0m\u001b[1;33m)\u001b[0m\u001b[1;33m\u001b[0m\u001b[0m\n\u001b[0m\u001b[0;32m     10\u001b[0m \u001b[1;33m\u001b[0m\u001b[0m\n\u001b[0;32m     11\u001b[0m     \u001b[1;32mreturn\u001b[0m \u001b[0mdfTables\u001b[0m\u001b[1;33m\u001b[0m\u001b[0m\n",
      "\u001b[1;32m<ipython-input-6-f1e25c59d072>\u001b[0m in \u001b[0;36mformDataFrame\u001b[1;34m(table)\u001b[0m\n\u001b[0;32m      6\u001b[0m     \u001b[0mrowCount\u001b[0m \u001b[1;33m=\u001b[0m \u001b[0mlen\u001b[0m\u001b[1;33m(\u001b[0m\u001b[0mrawData\u001b[0m\u001b[1;33m)\u001b[0m\u001b[1;33m/\u001b[0m\u001b[0mcolumnCount\u001b[0m\u001b[1;33m\u001b[0m\u001b[0m\n\u001b[0;32m      7\u001b[0m \u001b[1;33m\u001b[0m\u001b[0m\n\u001b[1;32m----> 8\u001b[1;33m     \u001b[0mres\u001b[0m \u001b[1;33m=\u001b[0m \u001b[0mDataFrame\u001b[0m\u001b[1;33m(\u001b[0m\u001b[0mrawData\u001b[0m\u001b[1;33m.\u001b[0m\u001b[0mreshape\u001b[0m\u001b[1;33m(\u001b[0m\u001b[0mrowCount\u001b[0m\u001b[1;33m,\u001b[0m \u001b[0mcolumnCount\u001b[0m\u001b[1;33m)\u001b[0m\u001b[1;33m,\u001b[0m \u001b[0mcolumns\u001b[0m \u001b[1;33m=\u001b[0m \u001b[0mcolumns\u001b[0m\u001b[1;33m)\u001b[0m\u001b[1;33m\u001b[0m\u001b[0m\n\u001b[0m\u001b[0;32m      9\u001b[0m \u001b[1;33m\u001b[0m\u001b[0m\n\u001b[0;32m     10\u001b[0m     \u001b[1;32mreturn\u001b[0m \u001b[0mres\u001b[0m\u001b[1;33m\u001b[0m\u001b[0m\n",
      "\u001b[1;32m/home/payam/anaconda/lib/python2.7/site-packages/pandas/core/series.pyc\u001b[0m in \u001b[0;36mreshape\u001b[1;34m(self, *args, **kwargs)\u001b[0m\n\u001b[0;32m    785\u001b[0m             \u001b[1;32mreturn\u001b[0m \u001b[0mself\u001b[0m\u001b[1;33m\u001b[0m\u001b[0m\n\u001b[0;32m    786\u001b[0m \u001b[1;33m\u001b[0m\u001b[0m\n\u001b[1;32m--> 787\u001b[1;33m         \u001b[1;32mreturn\u001b[0m \u001b[0mself\u001b[0m\u001b[1;33m.\u001b[0m\u001b[0mvalues\u001b[0m\u001b[1;33m.\u001b[0m\u001b[0mreshape\u001b[0m\u001b[1;33m(\u001b[0m\u001b[0mshape\u001b[0m\u001b[1;33m,\u001b[0m \u001b[1;33m**\u001b[0m\u001b[0mkwargs\u001b[0m\u001b[1;33m)\u001b[0m\u001b[1;33m\u001b[0m\u001b[0m\n\u001b[0m\u001b[0;32m    788\u001b[0m \u001b[1;33m\u001b[0m\u001b[0m\n\u001b[0;32m    789\u001b[0m     \u001b[0miget_value\u001b[0m \u001b[1;33m=\u001b[0m \u001b[0m_ixs\u001b[0m\u001b[1;33m\u001b[0m\u001b[0m\n",
      "\u001b[1;31mValueError\u001b[0m: total size of new array must be unchanged"
     ]
    }
   ],
   "source": [
    "#[0, 1, 3, 5, 6, 8, 9, 10, 11, 12, 13, 14, 15, 16, 17, 18, 19]\n",
    "#[2, 4, 7, 9, 12]\n",
    "res = desiredCountriesData(country_list_links[20])\n",
    "for i in range(len(res)):\n",
    "    print('{0}_{1}'.format(country_list_links[1], i))\n",
    "    print(res[i])"
   ]
  },
  {
   "cell_type": "code",
   "execution_count": 35,
   "metadata": {
    "collapsed": false
   },
   "outputs": [],
   "source": [
    "temp = res[0]\n",
    "countries = countries.merge(temp, on='Country', how='outer')"
   ]
  },
  {
   "cell_type": "code",
   "execution_count": 45,
   "metadata": {
    "collapsed": true
   },
   "outputs": [],
   "source": [
    "countries.columns = ['Country','GDP PPP','GDP Nominal','Average Wage PPP','Complusory Deduction','HPI','Life Expectancy','Ecological Footprint','inflation','drop']"
   ]
  },
  {
   "cell_type": "code",
   "execution_count": 47,
   "metadata": {
    "collapsed": false
   },
   "outputs": [],
   "source": [
    "countries = countries.drop(['drop'],1)"
   ]
  },
  {
   "cell_type": "code",
   "execution_count": 52,
   "metadata": {
    "collapsed": false
   },
   "outputs": [],
   "source": [
    "countries.drop('inflation',1).to_csv('countries2.csv',index=False)"
   ]
  }
 ],
 "metadata": {
  "kernelspec": {
   "display_name": "Python 2",
   "language": "python",
   "name": "python2"
  },
  "language_info": {
   "codemirror_mode": {
    "name": "ipython",
    "version": 2
   },
   "file_extension": ".py",
   "mimetype": "text/x-python",
   "name": "python",
   "nbconvert_exporter": "python",
   "pygments_lexer": "ipython2",
   "version": "2.7.10"
  }
 },
 "nbformat": 4,
 "nbformat_minor": 0
}
