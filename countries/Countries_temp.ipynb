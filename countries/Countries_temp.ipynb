{
 "cells": [
  {
   "cell_type": "code",
   "execution_count": 1,
   "metadata": {
    "collapsed": true
   },
   "outputs": [],
   "source": [
    "import numpy as np\n",
    "import pandas as pd\n",
    "import webbrowser as wb\n",
    "from bs4 import BeautifulSoup\n",
    "import requests\n",
    "\n",
    "from pandas import Series, DataFrame\n",
    "from numpy.random import randn\n",
    "\n",
    "countries = DataFrame(index=['switzerland', 'Netherlands','United_States', 'Canada', 'Australia', 'New_Zealand', 'Norway', 'United_Kingdom', \n",
    "                            'Germany', 'Belgium', 'Sweden', 'France', 'Italy', 'Danemark', 'Finland', 'Turkey', 'Iran'])\n",
    "\n",
    "link = 'https://en.wikipedia.org/wiki/{0}'\n",
    "country_list_links = Series(['List_of_countries_by_Human_Development_Index', 'List_of_countries_by_income_equality','List_of_countries_by_GDP_(PPP)_per_capita','List_of_countries_by_real_GDP_growth_rate'\n",
    "                            'List_of_countries_by_GDP_(nominal)_per_capita','List_of_countries_and_dependencies_by_population','List_of_countries_and_dependencies_by_population','List_of_countries_by_average_wage'\n",
    "                            ,'Satisfaction_with_Life_Index','Happy_Planet_Index','List_of_countries_by_unemployment_rate','List_of_countries_by_job_security','List_of_countries_by_inflation_rate'\n",
    "                        ,'Ease_of_doing_business_index','Index_of_Economic_Freedom','List_of_countries_by_tax_rates','List_of_minimum_wages_by_country','List_of_countries_by_past_and_projected_GDP_(nominal)_per_capita',\n",
    "                             'List_of_countries_by_GDP_growth_1980–2010','List_of_countries_by_GDP_(real)_per_capita_growth_rate','Global_Peace_Index'])\n",
    "links = []\n",
    "for i in range(len(country_list_links)):\n",
    "    links.append(link.format(country_list_links[i]))"
   ]
  },
  {
   "cell_type": "code",
   "execution_count": 2,
   "metadata": {
    "collapsed": true
   },
   "outputs": [],
   "source": [
    "def getRawTables(link):\n",
    "    \"\"\"extract tables of a page\"\"\"\n",
    "    # Request content from web page\n",
    "    result = requests.get(link)\n",
    "    c = result.content\n",
    "\n",
    "    # Set as Beautiful Soup Object\n",
    "    soup = BeautifulSoup(c)\n",
    "    #print(soup)\n",
    "    rawTables = soup.findAll(\"table\",{'class':'wikitable'})\n",
    "    print(len(rawTables))\n",
    "    return rawTables"
   ]
  },
  {
   "cell_type": "code",
   "execution_count": 3,
   "metadata": {
    "collapsed": true
   },
   "outputs": [],
   "source": [
    "def getRawDataFromTable(table):\n",
    "    \"\"\"extract raw datas of cells in one table\"\"\"\n",
    "    cells=table.findAll(\"td\")\n",
    "    \n",
    "    data = []\n",
    "    for i in range(len(cells)):\n",
    "        link = cells[i].findAll(\"a\")\n",
    "        if len(link) > 0:\n",
    "            data.append(link[0].text)\n",
    "        else:\n",
    "            data.append(cells[i].text)\n",
    "            \n",
    "    return data"
   ]
  },
  {
   "cell_type": "code",
   "execution_count": 4,
   "metadata": {
    "collapsed": true
   },
   "outputs": [],
   "source": [
    "def getColumnsFromTable(table):\n",
    "    \"\"\"extract column names for each table\"\"\"\n",
    "    temp = table.findAll(\"th\")\n",
    "    \n",
    "    columns = []\n",
    "    for i in range(len(temp)):\n",
    "        columns.append(temp[i].text)\n",
    "        \n",
    "    return columns"
   ]
  },
  {
   "cell_type": "code",
   "execution_count": 5,
   "metadata": {
    "collapsed": true
   },
   "outputs": [],
   "source": [
    "def formDataFrame(table):\n",
    "    \"\"\"function that gets table and call to other function to form a dataframe\"\"\"\n",
    "    rawData = Series(getRawDataFromTable(table))\n",
    "    columns = getColumnsFromTable(table)\n",
    "    columnCount = len(columns)\n",
    "    rowCount = len(rawData)/columnCount\n",
    "    \n",
    "    res = DataFrame(rawData.reshape(rowCount, columnCount), columns = columns)\n",
    "    \n",
    "    return res"
   ]
  },
  {
   "cell_type": "code",
   "execution_count": 13,
   "metadata": {
    "collapsed": true
   },
   "outputs": [],
   "source": [
    "def extractTables(link):\n",
    "    tables = getRawTables(link)\n",
    "    \n",
    "    dfTables = []\n",
    "    \n",
    "    #dfTables.append(formDataFrame(tables[0]))\n",
    "    \n",
    "    for i in range(len(tables)):\n",
    "            dfTables.append(formDataFrame(tables[i]))\n",
    "            \n",
    "    return dfTables"
   ]
  },
  {
   "cell_type": "code",
   "execution_count": 24,
   "metadata": {
    "collapsed": true
   },
   "outputs": [],
   "source": [
    "def desiredCountriesData(partLink):\n",
    "    \"\"\"extract data for those countries that I'm looking for\"\"\"\n",
    "    link = 'https://en.wikipedia.org/wiki/{0}'\n",
    "    countries = DataFrame(index=['Switzerland', 'Netherlands','United States', 'Canada', 'Australia', 'New Zealand', 'Norway', 'United_Kingdom', \n",
    "                            'Germany', 'Belgium', 'Sweden', 'France', 'Italy', 'Danemark', 'Finland', 'Turkey', 'Iran'])\n",
    "    \n",
    "    link = link.format(partLink)\n",
    "    print(link)\n",
    "    wb.open(link)\n",
    "    tables = extractTables(link)\n",
    "    \n",
    "    res = []\n",
    "    for i in range(len(tables)):\n",
    "        res.append(tables[i][tables[i]['Country'].isin(countries.index)])\n",
    "    \n",
    "    \n",
    "    return res"
   ]
  },
  {
   "cell_type": "code",
   "execution_count": 44,
   "metadata": {
    "collapsed": false
   },
   "outputs": [
    {
     "name": "stdout",
     "output_type": "stream",
     "text": [
      "https://en.wikipedia.org/wiki/List_of_countries_by_GDP_(PPP)_per_capita\n",
      "3\n",
      "   Rank        Country    Int$\n",
      "5     6         Norway  66,937\n",
      "8     9    Switzerland  58,087\n",
      "10   10  United States  54,597\n",
      "14   14    Netherlands  47,355\n",
      "15   15      Australia  46,433\n",
      "17   17         Sweden  45,986\n",
      "18   18        Germany  45,888\n",
      "20   20         Canada  44,843\n",
      "23   23        Belgium  42,973\n",
      "24   24         France  40,375\n",
      "25   25        Finland  40,347\n",
      "29   29          Italy  35,486\n",
      "31   31    New Zealand  35,152\n",
      "61   61         Turkey  19,610\n",
      "70   70           Iran  17,114\n",
      "   Rank        Country    Int$  Year\n",
      "6     6         Norway  64,406  2013\n",
      "8     8    Switzerland  56,950  2013\n",
      "12   10  United States  53,042  2013\n",
      "13   11    Netherlands  46,162  2013\n",
      "17   15         Sweden  44,658  2013\n",
      "18   16        Germany  43,884  2013\n",
      "21   19      Australia  43,202  2013\n",
      "22   20         Canada  42,753  2013\n",
      "24   22        Belgium  41,575  2013\n",
      "25   23        Finland  39,740  2013\n",
      "27   25         France  37,532  2013\n",
      "30   27          Italy  35,281  2013\n",
      "32   28    New Zealand  34,732  2013\n",
      "65   61         Turkey  18,783  2013\n",
      "75   71           Iran  15,590  2013\n",
      "   Rank        Country    Int$       Year\n",
      "11    8         Norway  65,900  2014 est.\n",
      "15   10    Switzerland  55,200  2014 est.\n",
      "18   12  United States  54,800  2014 est.\n",
      "21   15    Netherlands  47,400  2014 est.\n",
      "23   17      Australia  46,600  2014 est.\n",
      "25   19         Sweden  44,700  2014 est.\n",
      "26   20        Germany  44,700  2014 est.\n",
      "28   21         Canada  44,500  2014 est.\n",
      "36   26        Belgium  41,700  2014 est.\n",
      "37   27        Finland  40,500  2014 est.\n",
      "38   28         France  40,400  2014 est.\n",
      "47   33    New Zealand  35,000  2014 est.\n",
      "49   34          Italy  34,500  2014 est.\n",
      "85   64         Turkey  19,600  2014 est.\n",
      "97   75           Iran  16,500  2014 est.\n"
     ]
    }
   ],
   "source": [
    "#[0, 1, 3, 4, 5, 6, 7, 8, 9, 10, 11, 12, 13, 14, 15, 16, 17, 18, 19]\n",
    "#[2]\n",
    "res = desiredCountriesData(country_list_links[2])\n",
    "for i in range(len(res)):\n",
    "    #print('{0}_{1}'.format(country_list_links[1], i))\n",
    "    print(res[i])"
   ]
  },
  {
   "cell_type": "code",
   "execution_count": 45,
   "metadata": {
    "collapsed": false
   },
   "outputs": [],
   "source": [
    "gdp = res[0]\n",
    "for i in range(len(gdp['Int$'].values)):\n",
    "    gdp['Int$'].values[i] = int(gdp['Int$'].values[i].replace(',', ''))"
   ]
  },
  {
   "cell_type": "code",
   "execution_count": 47,
   "metadata": {
    "collapsed": false
   },
   "outputs": [],
   "source": [
    "gdp = gdp.drop('Rank',1)"
   ]
  },
  {
   "cell_type": "code",
   "execution_count": 48,
   "metadata": {
    "collapsed": false
   },
   "outputs": [
    {
     "data": {
      "text/html": [
       "<div>\n",
       "<table border=\"1\" class=\"dataframe\">\n",
       "  <thead>\n",
       "    <tr style=\"text-align: right;\">\n",
       "      <th></th>\n",
       "      <th>Country</th>\n",
       "      <th>Int$</th>\n",
       "    </tr>\n",
       "  </thead>\n",
       "  <tbody>\n",
       "    <tr>\n",
       "      <th>5</th>\n",
       "      <td>Norway</td>\n",
       "      <td>66937</td>\n",
       "    </tr>\n",
       "    <tr>\n",
       "      <th>8</th>\n",
       "      <td>Switzerland</td>\n",
       "      <td>58087</td>\n",
       "    </tr>\n",
       "    <tr>\n",
       "      <th>10</th>\n",
       "      <td>United States</td>\n",
       "      <td>54597</td>\n",
       "    </tr>\n",
       "    <tr>\n",
       "      <th>14</th>\n",
       "      <td>Netherlands</td>\n",
       "      <td>47355</td>\n",
       "    </tr>\n",
       "    <tr>\n",
       "      <th>15</th>\n",
       "      <td>Australia</td>\n",
       "      <td>46433</td>\n",
       "    </tr>\n",
       "    <tr>\n",
       "      <th>17</th>\n",
       "      <td>Sweden</td>\n",
       "      <td>45986</td>\n",
       "    </tr>\n",
       "    <tr>\n",
       "      <th>18</th>\n",
       "      <td>Germany</td>\n",
       "      <td>45888</td>\n",
       "    </tr>\n",
       "    <tr>\n",
       "      <th>20</th>\n",
       "      <td>Canada</td>\n",
       "      <td>44843</td>\n",
       "    </tr>\n",
       "    <tr>\n",
       "      <th>23</th>\n",
       "      <td>Belgium</td>\n",
       "      <td>42973</td>\n",
       "    </tr>\n",
       "    <tr>\n",
       "      <th>24</th>\n",
       "      <td>France</td>\n",
       "      <td>40375</td>\n",
       "    </tr>\n",
       "    <tr>\n",
       "      <th>25</th>\n",
       "      <td>Finland</td>\n",
       "      <td>40347</td>\n",
       "    </tr>\n",
       "    <tr>\n",
       "      <th>29</th>\n",
       "      <td>Italy</td>\n",
       "      <td>35486</td>\n",
       "    </tr>\n",
       "    <tr>\n",
       "      <th>31</th>\n",
       "      <td>New Zealand</td>\n",
       "      <td>35152</td>\n",
       "    </tr>\n",
       "    <tr>\n",
       "      <th>61</th>\n",
       "      <td>Turkey</td>\n",
       "      <td>19610</td>\n",
       "    </tr>\n",
       "    <tr>\n",
       "      <th>70</th>\n",
       "      <td>Iran</td>\n",
       "      <td>17114</td>\n",
       "    </tr>\n",
       "  </tbody>\n",
       "</table>\n",
       "</div>"
      ],
      "text/plain": [
       "          Country   Int$\n",
       "5          Norway  66937\n",
       "8     Switzerland  58087\n",
       "10  United States  54597\n",
       "14    Netherlands  47355\n",
       "15      Australia  46433\n",
       "17         Sweden  45986\n",
       "18        Germany  45888\n",
       "20         Canada  44843\n",
       "23        Belgium  42973\n",
       "24         France  40375\n",
       "25        Finland  40347\n",
       "29          Italy  35486\n",
       "31    New Zealand  35152\n",
       "61         Turkey  19610\n",
       "70           Iran  17114"
      ]
     },
     "execution_count": 48,
     "metadata": {},
     "output_type": "execute_result"
    }
   ],
   "source": [
    "gdp"
   ]
  },
  {
   "cell_type": "code",
   "execution_count": 50,
   "metadata": {
    "collapsed": false
   },
   "outputs": [],
   "source": [
    "countries = countries.merge(gdp, on='Country')"
   ]
  },
  {
   "cell_type": "code",
   "execution_count": 51,
   "metadata": {
    "collapsed": false
   },
   "outputs": [
    {
     "data": {
      "text/html": [
       "<div>\n",
       "<table border=\"1\" class=\"dataframe\">\n",
       "  <thead>\n",
       "    <tr style=\"text-align: right;\">\n",
       "      <th></th>\n",
       "      <th>Rank</th>\n",
       "      <th>Country</th>\n",
       "      <th>Int$_x</th>\n",
       "      <th>Int$_y</th>\n",
       "    </tr>\n",
       "  </thead>\n",
       "  <tbody>\n",
       "  </tbody>\n",
       "</table>\n",
       "</div>"
      ],
      "text/plain": [
       "Empty DataFrame\n",
       "Columns: [Rank, Country, Int$_x, Int$_y]\n",
       "Index: []"
      ]
     },
     "execution_count": 51,
     "metadata": {},
     "output_type": "execute_result"
    }
   ],
   "source": [
    "countries"
   ]
  },
  {
   "cell_type": "code",
   "execution_count": 57,
   "metadata": {
    "collapsed": false
   },
   "outputs": [
    {
     "data": {
      "text/html": [
       "<div>\n",
       "<table border=\"1\" class=\"dataframe\">\n",
       "  <thead>\n",
       "    <tr style=\"text-align: right;\">\n",
       "      <th></th>\n",
       "      <th>GDP_PPP_PerCapita</th>\n",
       "    </tr>\n",
       "    <tr>\n",
       "      <th>Country</th>\n",
       "      <th></th>\n",
       "    </tr>\n",
       "  </thead>\n",
       "  <tbody>\n",
       "    <tr>\n",
       "      <th>Norway</th>\n",
       "      <td>NaN</td>\n",
       "    </tr>\n",
       "    <tr>\n",
       "      <th>Switzerland</th>\n",
       "      <td>NaN</td>\n",
       "    </tr>\n",
       "    <tr>\n",
       "      <th>United States</th>\n",
       "      <td>NaN</td>\n",
       "    </tr>\n",
       "    <tr>\n",
       "      <th>Netherlands</th>\n",
       "      <td>NaN</td>\n",
       "    </tr>\n",
       "    <tr>\n",
       "      <th>Australia</th>\n",
       "      <td>NaN</td>\n",
       "    </tr>\n",
       "    <tr>\n",
       "      <th>Sweden</th>\n",
       "      <td>NaN</td>\n",
       "    </tr>\n",
       "    <tr>\n",
       "      <th>Germany</th>\n",
       "      <td>NaN</td>\n",
       "    </tr>\n",
       "    <tr>\n",
       "      <th>Canada</th>\n",
       "      <td>NaN</td>\n",
       "    </tr>\n",
       "    <tr>\n",
       "      <th>Belgium</th>\n",
       "      <td>NaN</td>\n",
       "    </tr>\n",
       "    <tr>\n",
       "      <th>France</th>\n",
       "      <td>NaN</td>\n",
       "    </tr>\n",
       "    <tr>\n",
       "      <th>Finland</th>\n",
       "      <td>NaN</td>\n",
       "    </tr>\n",
       "    <tr>\n",
       "      <th>Italy</th>\n",
       "      <td>NaN</td>\n",
       "    </tr>\n",
       "    <tr>\n",
       "      <th>New Zealand</th>\n",
       "      <td>NaN</td>\n",
       "    </tr>\n",
       "    <tr>\n",
       "      <th>Turkey</th>\n",
       "      <td>NaN</td>\n",
       "    </tr>\n",
       "    <tr>\n",
       "      <th>Iran</th>\n",
       "      <td>NaN</td>\n",
       "    </tr>\n",
       "  </tbody>\n",
       "</table>\n",
       "</div>"
      ],
      "text/plain": [
       "              GDP_PPP_PerCapita\n",
       "Country                        \n",
       "Norway                      NaN\n",
       "Switzerland                 NaN\n",
       "United States               NaN\n",
       "Netherlands                 NaN\n",
       "Australia                   NaN\n",
       "Sweden                      NaN\n",
       "Germany                     NaN\n",
       "Canada                      NaN\n",
       "Belgium                     NaN\n",
       "France                      NaN\n",
       "Finland                     NaN\n",
       "Italy                       NaN\n",
       "New Zealand                 NaN\n",
       "Turkey                      NaN\n",
       "Iran                        NaN"
      ]
     },
     "execution_count": 57,
     "metadata": {},
     "output_type": "execute_result"
    }
   ],
   "source": [
    "gdp_pp = DataFrame(gdp['Int$'], index = gdp['Country'],  columns = ['GDP_PPP_PerCapita'])\n",
    "gdp_pp"
   ]
  },
  {
   "cell_type": "code",
   "execution_count": 56,
   "metadata": {
    "collapsed": false
   },
   "outputs": [
    {
     "data": {
      "text/plain": [
       "5            Norway\n",
       "8       Switzerland\n",
       "10    United States\n",
       "14      Netherlands\n",
       "15        Australia\n",
       "17           Sweden\n",
       "18          Germany\n",
       "20           Canada\n",
       "23          Belgium\n",
       "24           France\n",
       "25          Finland\n",
       "29            Italy\n",
       "31      New Zealand\n",
       "61           Turkey\n",
       "70             Iran\n",
       "Name: Country, dtype: object"
      ]
     },
     "execution_count": 56,
     "metadata": {},
     "output_type": "execute_result"
    }
   ],
   "source": [
    "gdp['Country']"
   ]
  },
  {
   "cell_type": "code",
   "execution_count": null,
   "metadata": {
    "collapsed": true
   },
   "outputs": [],
   "source": []
  }
 ],
 "metadata": {
  "kernelspec": {
   "display_name": "Python 2",
   "language": "python",
   "name": "python2"
  },
  "language_info": {
   "codemirror_mode": {
    "name": "ipython",
    "version": 2
   },
   "file_extension": ".py",
   "mimetype": "text/x-python",
   "name": "python",
   "nbconvert_exporter": "python",
   "pygments_lexer": "ipython2",
   "version": "2.7.10"
  }
 },
 "nbformat": 4,
 "nbformat_minor": 0
}
